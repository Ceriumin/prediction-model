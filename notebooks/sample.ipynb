{
 "cells": [
  {
   "cell_type": "markdown",
   "id": "952491cb606ff1b9",
   "metadata": {},
   "source": [
    "# 1 - Introduction\n",
    "\n",
    "In this project we will be exploring machine learning and building a predictive model for estimating apartment prices in Poland based on various features, including apartment specifications (such as size, number of rooms, etc) and location. The data has been recorded in three cities, Poznań, Warszawa and Kraków. This also includes coordinates as the location in the city may affect the prices of the apartment. The main motivation of using this dataset was firstly, as the author of the project is of Polish origin, and secondly the Polish real estate market has seen significant growth in recent years, so predicting prices is an essential tool for both buyers and sellers. The goal of the machine learning model is to provide a data-driven solution for forecasting apartment prices based off factors that can influence the value of these apartments. For example, factors which can influence the prices include size of the apartment in square feet, number of rooms, the floor the apartment is located, and the geographic location. These can drastically influence the price of the apartments, for eaxmple apartments higher up may cost significantly more, or those who are in close proximity to  city or public transportation/landmarks and location etc.\n",
    "\n",
    "By using historical data on previous transaction, our machine learning model will learn to capture the patterns in the features from the data so it can allow us to make accurate predictions on future property listings. This could be very useful for potential buyers in determining fair market prices and investors who need a reliable tool for market data analysis. In this analysis we will go through the process of applying the machine learning model and looking at the relationships between various features providing insights into which factors influence the price the most. \n",
    "\n",
    "### 2 - Problem Statement\n",
    "\n",
    "Like every other market in the world, the real estate market in Poland is complex and dynamic with apartment prices influenced by many factors as explained earlier. As a result, predicting the price of an apartment is a challenging task for a human to do for buyers and sellers, so we can employ machine learning models and techniques to help us with this. The primary goal of this project is to build a machine learning model which is capable of predicting the price of an apartment based off the features and columns provided by the data in which we can aim to develop a model that can reliably estimate these apartment prices. \n",
    "\n",
    "We can summarize te problem as follow:\n",
    "\n",
    "- **Input**: Dataset containing all the information about apartments in Poland. This includes the following columns: Apartment Size (in square meters), number of rooms, floor number, location, year bought and other relevant details we will cover later.\n",
    "\n",
    "- **Output**: A predicted price for each apartment based off input. This can be changed to anything depending on the needs of the project but it is optimised for price prediction. \n",
    "\n",
    "This model will provide value by:\n",
    "\n",
    "1.  Help potential buyers estimate and negotiate for a fair price for an apartment\n",
    "2.  Assist sellers in pricing their properties competitvely and accurately\n",
    "3.  Enable real estate professionals and investors make more informed decisions\n",
    "\n",
    "We will solve this probem by employing supervised learning techniques where historical apartment prices will be predicted based on features provided in the dataset. Our approach will involve data pre-processing, feature engineering, model selection, model training and model evaluation using a range of different techniques and models.\n",
    "\n",
    "### 3 - Data Exploration & Setup\n",
    "\n",
    "\n",
    "\n",
    "\n"
   ]
  }
 ],
 "metadata": {
  "kernelspec": {
   "display_name": "Python 3",
   "language": "python",
   "name": "python3"
  },
  "language_info": {
   "codemirror_mode": {
    "name": "ipython",
    "version": 2
   },
   "file_extension": ".py",
   "mimetype": "text/x-python",
   "name": "python",
   "nbconvert_exporter": "python",
   "pygments_lexer": "ipython2",
   "version": "2.7.6"
  }
 },
 "nbformat": 4,
 "nbformat_minor": 5
}
