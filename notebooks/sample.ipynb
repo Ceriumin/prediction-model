{
 "cells": [
  {
   "metadata": {},
   "cell_type": "markdown",
   "source": [
    "# Assignment 2\n",
    "\n",
    "In this notebook, we will be exploring the application of machine learning techniques. The dataset I have selected describes thousands of apartments in Poland, in cities Kraków, Poznań an Warszawa, each labelled by Square Feet, Coordinates, City, Price, Rooms and Year. This will be described further in [Section 1, Data Pre-Processing](#data-pre-processing). The goal is to predict different values based off of other attributes and specifications of the apartments. We will primarily be training AI to predict the price in this demonstration, however the model is designed to work with other attributes as well (such as if we wanted to predict the square feet of the apartment).\n",
    "\n",
    "We will walk through the whole process of the machine learning lifecycle, from data processing to model evaluation, and we will leverage various data visualization techniques to gain insights into the data and the model's performance.\n",
    "\n",
    "\n",
    "### Data Pre-Processing\n",
    "\n",
    "It is important to process data and filter it before training the machine learning algorithms as garbage data in results in garbage data out. This has already been done and cleaned by the author of the dataset however we have still applied techniques to clean the data to make sure that there isn't any null values, and as a way to demonstrate the features and code. Due to the type of data we are using, it would only be logical to drop any null values should there be any null values, it wouldn't make sense to use the median/mean on lets say the latitude or longitude if it was missing."
   ],
   "id": "952491cb606ff1b9"
  }
 ],
 "metadata": {
  "kernelspec": {
   "display_name": "Python 3",
   "language": "python",
   "name": "python3"
  },
  "language_info": {
   "codemirror_mode": {
    "name": "ipython",
    "version": 2
   },
   "file_extension": ".py",
   "mimetype": "text/x-python",
   "name": "python",
   "nbconvert_exporter": "python",
   "pygments_lexer": "ipython2",
   "version": "2.7.6"
  }
 },
 "nbformat": 4,
 "nbformat_minor": 5
}
